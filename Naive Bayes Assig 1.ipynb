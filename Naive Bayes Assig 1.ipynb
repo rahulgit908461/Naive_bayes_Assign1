{
 "cells": [
  {
   "cell_type": "code",
   "execution_count": 1,
   "id": "90a8bb0f-7ab4-4222-8aae-3922b9d7d733",
   "metadata": {},
   "outputs": [],
   "source": [
    "#Q1. What is Bayes' theorem?"
   ]
  },
  {
   "cell_type": "code",
   "execution_count": 2,
   "id": "457d13fe-93f5-4d84-9921-0342f00091ab",
   "metadata": {},
   "outputs": [],
   "source": [
    "#Bayes' Theorem states that the conditional probability of an event, based on the occurrence of another event,\n",
    "#is equal to the likelihood of the second event given the first event multiplied by the probability of the first \n",
    "#event."
   ]
  },
  {
   "cell_type": "code",
   "execution_count": 3,
   "id": "5964b4c2-82b5-4c2c-a000-c269927ebfa1",
   "metadata": {},
   "outputs": [],
   "source": [
    "#Q2. What is the formula for Bayes' theorem?"
   ]
  },
  {
   "cell_type": "code",
   "execution_count": 4,
   "id": "246db77c-e242-4b78-a259-85ae5c329906",
   "metadata": {},
   "outputs": [],
   "source": [
    "#P(A ∣ B) is the conditional probability of event A occurring, given that B is true. P(B ∣ A) is the conditional \n",
    "#probability of event B occurring, given that A is true. P(A) and P(B) are the probabilities of A and B occurring \n",
    "#independently of one another."
   ]
  },
  {
   "cell_type": "code",
   "execution_count": 5,
   "id": "5b0c7dcb-d3bb-415c-855a-7693ed51fc90",
   "metadata": {},
   "outputs": [],
   "source": [
    "#Q3. How is Bayes' theorem used in practice?"
   ]
  },
  {
   "cell_type": "code",
   "execution_count": 7,
   "id": "4df3d644-e784-488c-a9ad-213f23daf232",
   "metadata": {},
   "outputs": [],
   "source": [
    "#Bayes' Theorem allows you to update the predicted probabilities of an event by incorporating new information.\n",
    "# It is often employed in finance in calculating or updating risk evaluation.\n",
    "#For example, if a disease is related to age, then, using Bayes' theorem, a person's age can be used to more \n",
    "#accurately assess the probability that they have the disease, compared to the assessment of the probability of \n",
    "#disease made without knowledge of the person's age."
   ]
  },
  {
   "cell_type": "code",
   "execution_count": 8,
   "id": "42b6f231-e9ca-4b30-995a-74d7e321d5a1",
   "metadata": {},
   "outputs": [],
   "source": [
    "#Q4. What is the relationship between Bayes' theorem and conditional probability?"
   ]
  },
  {
   "cell_type": "code",
   "execution_count": 10,
   "id": "9a768e4a-429c-4f1e-8db8-7f55ddb63e7f",
   "metadata": {},
   "outputs": [],
   "source": [
    "#Bayes' Theorem states that the conditional probability of an event, based on the occurrence of another event, is \n",
    "#equal to the likelihood of the second event given the first event multiplied by the probability of the first event.\n",
    "#Conditional probability looks at two events occurring in relation to one another."
   ]
  },
  {
   "cell_type": "code",
   "execution_count": 11,
   "id": "b1f3398d-ae49-45e7-8874-8e90fc6be9ed",
   "metadata": {},
   "outputs": [],
   "source": [
    "#Q5. How do you choose which type of Naive Bayes classifier to use for any given problem"
   ]
  },
  {
   "cell_type": "code",
   "execution_count": null,
   "id": "962415e5-5551-40fb-94f1-4edf03ce0664",
   "metadata": {},
   "outputs": [],
   "source": []
  }
 ],
 "metadata": {
  "kernelspec": {
   "display_name": "Python 3 (ipykernel)",
   "language": "python",
   "name": "python3"
  },
  "language_info": {
   "codemirror_mode": {
    "name": "ipython",
    "version": 3
   },
   "file_extension": ".py",
   "mimetype": "text/x-python",
   "name": "python",
   "nbconvert_exporter": "python",
   "pygments_lexer": "ipython3",
   "version": "3.10.8"
  }
 },
 "nbformat": 4,
 "nbformat_minor": 5
}
